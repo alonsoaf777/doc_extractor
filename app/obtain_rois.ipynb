{
 "cells": [
  {
   "cell_type": "code",
   "execution_count": 4,
   "metadata": {},
   "outputs": [
    {
     "ename": "ImportError",
     "evalue": "attempted relative import with no known parent package",
     "output_type": "error",
     "traceback": [
      "\u001b[1;31m---------------------------------------------------------------------------\u001b[0m",
      "\u001b[1;31mImportError\u001b[0m                               Traceback (most recent call last)",
      "Cell \u001b[1;32mIn[4], line 4\u001b[0m\n\u001b[0;32m      2\u001b[0m \u001b[38;5;28;01mimport\u001b[39;00m\u001b[38;5;250m \u001b[39m\u001b[38;5;21;01mnumpy\u001b[39;00m\u001b[38;5;250m \u001b[39m\u001b[38;5;28;01mas\u001b[39;00m\u001b[38;5;250m \u001b[39m\u001b[38;5;21;01mnp\u001b[39;00m\n\u001b[0;32m      3\u001b[0m \u001b[38;5;28;01mimport\u001b[39;00m\u001b[38;5;250m \u001b[39m\u001b[38;5;21;01mjson\u001b[39;00m\n\u001b[1;32m----> 4\u001b[0m \u001b[38;5;28;01mfrom\u001b[39;00m\u001b[38;5;250m \u001b[39m\u001b[38;5;21;01m.\u001b[39;00m\u001b[38;5;21;01m.\u001b[39;00m\u001b[38;5;21;01mutils\u001b[39;00m\u001b[38;5;21;01m.\u001b[39;00m\u001b[38;5;21;01mfile_loader\u001b[39;00m\u001b[38;5;250m \u001b[39m\u001b[38;5;28;01mimport\u001b[39;00m load_file_image\n\u001b[0;32m      6\u001b[0m \u001b[38;5;66;03m# === CONFIGURAtTION ===\u001b[39;00m\n\u001b[0;32m      7\u001b[0m ROI_WIDTH_NORM \u001b[38;5;241m=\u001b[39m \u001b[38;5;241m0.1\u001b[39m  \u001b[38;5;66;03m# ancho del rectángulo en proporción a la imagen\u001b[39;00m\n",
      "\u001b[1;31mImportError\u001b[0m: attempted relative import with no known parent package"
     ]
    }
   ],
   "source": [
    "import cv2\n",
    "import numpy as np\n",
    "import json\n",
    "from utils.file_loader import load_file_image\n",
    "\n",
    "# === CONFIGURAtTION ===\n",
    "ROI_WIDTH_NORM = 0.1  # ancho del rectángulo en proporción a la imagen\n",
    "ROI_HEIGHT_NORM = 0.015  # alto del rectángulo\n",
    "ZOOM_FACTOR = 3         # nivel de zoom en ventana adicional\n",
    "\n",
    "image_pil = load_file_image(r\"C:\\Users\\lol_a\\Downloads\\tax_return.pdf\")\n",
    "image = pil_to_cv2(image_pil)\n",
    "image_display = image.copy()\n",
    "\n",
    "H, W = image.shape[:2]\n",
    "roi_w, roi_h = int(W * ROI_WIDTH_NORM), int(H * ROI_HEIGHT_NORM)\n",
    "\n",
    "# ===GLOBAL VARIABLES ===\n",
    "rois = []\n",
    "current_mouse = (0, 0)\n",
    "\n",
    "# === MOUSE CALLBACK ===\n",
    "def mouse_event(event, x, y, flags, param):\n",
    "    '''\n",
    "    Dynamic box selection to obtain OCR coordinates\n",
    "    '''\n",
    "    global current_mouse, rois\n",
    "\n",
    "    current_mouse = (x, y)\n",
    "\n",
    "    if event == cv2.EVENT_LBUTTONDOWN:\n",
    "        # Center rectangle\n",
    "        x1 = max(0, x - roi_w // 2)\n",
    "        y1 = max(0, y - roi_h // 2)\n",
    "        x2 = min(W, x1 + roi_w)\n",
    "        y2 = min(H, y1 + roi_h)\n",
    "\n",
    "        # Normalize and save coordinates\n",
    "        roi_norm = [x1 / W, y1 / H, (x2 - x1) / W, (y2 - y1) / H]\n",
    "        rois.append(roi_norm)\n",
    "        print(f\"ROI saved: {roi_norm}\")\n",
    "\n",
    "# === CONFIGURAR VENTANA ===\n",
    "cv2.namedWindow(\"image\")\n",
    "cv2.setMouseCallback(\"image\", mouse_event)\n",
    "\n",
    "while True:\n",
    "    image_display = image.copy()\n",
    "\n",
    "    # Draw rectangle\n",
    "    x, y = current_mouse\n",
    "    x1 = max(0, x - roi_w // 2)\n",
    "    y1 = max(0, y - roi_h // 2)\n",
    "    x2 = min(W, x1 + roi_w)\n",
    "    y2 = min(H, y1 + roi_h)\n",
    "    cv2.rectangle(image_display, (x1, y1), (x2, y2), (0, 255, 0), 2)\n",
    "\n",
    "    # Show roi with zoom\n",
    "    zoom_roi = image[y1:y2, x1:x2]\n",
    "    if zoom_roi.size > 0:\n",
    "        zoom = cv2.resize(zoom_roi, None, fx=ZOOM_FACTOR, fy=ZOOM_FACTOR, interpolation=cv2.INTER_CUBIC)\n",
    "        cv2.imshow(\"zoom\", zoom)\n",
    "\n",
    "    cv2.imshow(\"image\", image_display)\n",
    "    key = cv2.waitKey(1) & 0xFF\n",
    "    if key == 27:  # ESC\n",
    "        break\n",
    "\n",
    "cv2.destroyAllWindows()\n",
    "\n",
    "# === SAVE ROIS ===\n",
    "with open(\"ocr/rois.json\", \"w\") as f:\n",
    "    json.dump(rois, f)\n",
    "print(\"Saved ROIS in ocr/rois.json\")\n"
   ]
  }
 ],
 "metadata": {
  "kernelspec": {
   "display_name": "venv",
   "language": "python",
   "name": "python3"
  },
  "language_info": {
   "codemirror_mode": {
    "name": "ipython",
    "version": 3
   },
   "file_extension": ".py",
   "mimetype": "text/x-python",
   "name": "python",
   "nbconvert_exporter": "python",
   "pygments_lexer": "ipython3",
   "version": "3.9.2"
  }
 },
 "nbformat": 4,
 "nbformat_minor": 2
}
